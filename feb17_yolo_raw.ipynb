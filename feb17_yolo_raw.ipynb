{
  "nbformat": 4,
  "nbformat_minor": 0,
  "metadata": {
    "colab": {
      "provenance": []
    },
    "kernelspec": {
      "name": "python3",
      "display_name": "Python 3"
    },
    "language_info": {
      "name": "python"
    }
  },
  "cells": [
    {
      "cell_type": "markdown",
      "source": [
        "Log file - yolo_log.py"
      ],
      "metadata": {
        "id": "5zdYZEVuCbeJ"
      }
    },
    {
      "cell_type": "code",
      "source": [
        "from datetime import datetime\n",
        "class yolo_logger:\n",
        "    def __init__(self):\n",
        "        pass\n",
        "    \n",
        "    def log(self,filename, log_message):\n",
        "\n",
        "        self.now = datetime.now()\n",
        "        self.date = self.now.date()\n",
        "        self.current_time = self.now.strftime(\"%H:%M:%S\")\n",
        "        filename.write(str(self.date)+\"/\"+ str(self.current_time)+\"\\t\\t\"+ log_message +\"\\n\")"
      ],
      "metadata": {
        "id": "5A5gZ3pl7jvS"
      },
      "execution_count": 3,
      "outputs": []
    },
    {
      "cell_type": "markdown",
      "source": [
        "dir change file - dir_change.sh"
      ],
      "metadata": {
        "id": "Ut-CegO3Cjvl"
      }
    },
    {
      "cell_type": "code",
      "execution_count": 4,
      "metadata": {
        "id": "4nAqddrK6P-S"
      },
      "outputs": [],
      "source": [
        "import os\n",
        "class change_dir:\n",
        "  def __init__(self):\n",
        "    self.log_writer = yolo_logger()\n",
        "    self.filename = open(\"/content/drive/MyDrive/yolo/change_dir_logs.txt\",\"a+\")\n",
        "    self.log_writer.log(self.filename, \"dir changed {}\".format(os.getcwd()))\n",
        "\n",
        "  def dir_yolo(self, path):\n",
        "    self.path = path\n",
        "    dir_yolo = os.chdir(path)\n",
        "     \n"
      ]
    },
    {
      "cell_type": "code",
      "source": [
        "change_dir().dir_yolo(\"/content/drive/MyDrive/yolo\")"
      ],
      "metadata": {
        "id": "wGO0gQvv7Imc"
      },
      "execution_count": 5,
      "outputs": []
    },
    {
      "cell_type": "markdown",
      "source": [
        "Libs installed"
      ],
      "metadata": {
        "id": "8x54CtwGmKsq"
      }
    },
    {
      "cell_type": "code",
      "source": [
        "%pip install numpy opencv-python"
      ],
      "metadata": {
        "colab": {
          "base_uri": "https://localhost:8080/"
        },
        "id": "5moKsL1P-0bc",
        "outputId": "db974235-7ffa-4eb0-da07-92f29332261f"
      },
      "execution_count": 6,
      "outputs": [
        {
          "output_type": "stream",
          "name": "stdout",
          "text": [
            "Looking in indexes: https://pypi.org/simple, https://us-python.pkg.dev/colab-wheels/public/simple/\n",
            "Requirement already satisfied: numpy in /usr/local/lib/python3.8/dist-packages (1.21.6)\n",
            "Requirement already satisfied: opencv-python in /usr/local/lib/python3.8/dist-packages (4.6.0.66)\n"
          ]
        }
      ]
    },
    {
      "cell_type": "markdown",
      "source": [
        "Downloading pretrained model's weights"
      ],
      "metadata": {
        "id": "b7BOVm0ipwY2"
      }
    },
    {
      "cell_type": "code",
      "source": [
        "import requests\n",
        "\n",
        "class download_weights:\n",
        "  def weights(self,url):\n",
        "    self.url = url\n",
        "    self.log_writer = yolo_logger()\n",
        "    self.filename = open(\"/content/drive/MyDrive/yolo/weightsLogs.txt\",\"a+\")\n",
        "    self.log_writer.log(self.filename, \"downloading yolov3 weights\")\n",
        "    try:\n",
        "      r = requests.get(weights_url)\n",
        "      with open(\"yolo3.weights\",'wb') as f:\n",
        "        f.write(r.content)\n",
        "      self.log_writer.log(self.filename, \" yolov3 wweights dowloaded\")\n",
        "    except Exception as e:\n",
        "      self.log_writer.log(self.filename, e)\n",
        "\n"
      ],
      "metadata": {
        "id": "CMk_3eJ0maxz"
      },
      "execution_count": 6,
      "outputs": []
    },
    {
      "cell_type": "code",
      "source": [
        "weights_url = 'https://pjreddie.com/media/files/yolov3.weights'\n",
        "download_weights().weights(weights_url)"
      ],
      "metadata": {
        "id": "5BYotuR-p3Ul"
      },
      "execution_count": 6,
      "outputs": []
    },
    {
      "cell_type": "code",
      "source": [
        "%pip install gitpython"
      ],
      "metadata": {
        "colab": {
          "base_uri": "https://localhost:8080/"
        },
        "id": "BfU1YVI1q4sK",
        "outputId": "27be2c8d-03c5-47e4-d8cf-b6bb7fb80358"
      },
      "execution_count": 5,
      "outputs": [
        {
          "output_type": "stream",
          "name": "stdout",
          "text": [
            "Looking in indexes: https://pypi.org/simple, https://us-python.pkg.dev/colab-wheels/public/simple/\n",
            "Collecting gitpython\n",
            "  Downloading GitPython-3.1.31-py3-none-any.whl (184 kB)\n",
            "\u001b[2K     \u001b[90m━━━━━━━━━━━━━━━━━━━━━━━━━━━━━━━━━━━━━━━\u001b[0m \u001b[32m184.3/184.3 KB\u001b[0m \u001b[31m4.6 MB/s\u001b[0m eta \u001b[36m0:00:00\u001b[0m\n",
            "\u001b[?25hCollecting gitdb<5,>=4.0.1\n",
            "  Downloading gitdb-4.0.10-py3-none-any.whl (62 kB)\n",
            "\u001b[2K     \u001b[90m━━━━━━━━━━━━━━━━━━━━━━━━━━━━━━━━━━━━━━━━\u001b[0m \u001b[32m62.7/62.7 KB\u001b[0m \u001b[31m7.5 MB/s\u001b[0m eta \u001b[36m0:00:00\u001b[0m\n",
            "\u001b[?25hCollecting smmap<6,>=3.0.1\n",
            "  Downloading smmap-5.0.0-py3-none-any.whl (24 kB)\n",
            "Installing collected packages: smmap, gitdb, gitpython\n",
            "Successfully installed gitdb-4.0.10 gitpython-3.1.31 smmap-5.0.0\n"
          ]
        }
      ]
    },
    {
      "cell_type": "code",
      "source": [
        "\n",
        "from git import Repo\n",
        "class clone_repo:\n",
        "  def clonning(self,url, dir):\n",
        "    self.dir = dir\n",
        "    self.url = url\n",
        "    self.log_writer = yolo_logger()\n",
        "    self.filename = open(\"/content/drive/MyDrive/yolo/RepoClonnedLogs.txt\",\"a+\")\n",
        "    self.log_writer.log(self.filename, \"Starting to clone Repo\")\n",
        "\n",
        "    try:\n",
        "      Repo.clone_from(self.url, self.dir)\n",
        "      self.log_writer.log(self.filename, \"Repo clonned\")\n",
        "      self.filename.close()\n",
        "    except Exception as e:\n",
        "      self.log_writer.log(self.filename, \"unable to clone repo: {}\".format(e))\n",
        "      self.filename.close()\n",
        "\n"
      ],
      "metadata": {
        "id": "ZIfBD9WXq7MO"
      },
      "execution_count": 8,
      "outputs": []
    },
    {
      "cell_type": "code",
      "source": [
        "git_url = \"https://github.com/arunponnusamy/object-detection-opencv.git\"\n",
        "dir = \"/content/drive/MyDrive/yolo/yolo_files\"\n",
        "clone_repo().clonning(git_url, dir)"
      ],
      "metadata": {
        "id": "4JL_egFusF0U"
      },
      "execution_count": null,
      "outputs": []
    },
    {
      "cell_type": "code",
      "source": [
        "pwd"
      ],
      "metadata": {
        "colab": {
          "base_uri": "https://localhost:8080/",
          "height": 35
        },
        "id": "pdnV737uxOwW",
        "outputId": "49473e08-88f8-43fb-a53d-6b189e0993ec"
      },
      "execution_count": null,
      "outputs": [
        {
          "output_type": "execute_result",
          "data": {
            "text/plain": [
              "'/content/drive/MyDrive/yolo'"
            ],
            "application/vnd.google.colaboratory.intrinsic+json": {
              "type": "string"
            }
          },
          "metadata": {},
          "execution_count": 21
        }
      ]
    },
    {
      "cell_type": "code",
      "source": [
        "change_dir().dir_yolo(\"/content/drive/MyDrive/yolo/yolo_files\")"
      ],
      "metadata": {
        "id": "CXuGT8L3yMtp"
      },
      "execution_count": 7,
      "outputs": []
    },
    {
      "cell_type": "code",
      "source": [
        "!python yolo_opencv.py --image dog.jpg --config yolov3.cfg --weights yolo3.weights --classes yolov3.txt"
      ],
      "metadata": {
        "colab": {
          "base_uri": "https://localhost:8080/"
        },
        "id": "YmLFTcH9t1-0",
        "outputId": "eb946945-40ce-431c-8a8d-acac5c9047c9"
      },
      "execution_count": null,
      "outputs": [
        {
          "output_type": "stream",
          "name": "stdout",
          "text": [
            "<PIL.Image.Image image mode=RGB size=768x576 at 0x7F977176ACD0>\n"
          ]
        }
      ]
    },
    {
      "cell_type": "code",
      "source": [],
      "metadata": {
        "id": "de_Xt_FE2YET"
      },
      "execution_count": null,
      "outputs": []
    },
    {
      "cell_type": "code",
      "source": [
        "%pip install pipreqs\n",
        "!python -m  pipreqs.pipreqs"
      ],
      "metadata": {
        "colab": {
          "base_uri": "https://localhost:8080/"
        },
        "id": "xUNUqeFk2Fed",
        "outputId": "313cea55-57bb-48e2-a3e0-8370d63a2b9d"
      },
      "execution_count": null,
      "outputs": [
        {
          "output_type": "stream",
          "name": "stdout",
          "text": [
            "Looking in indexes: https://pypi.org/simple, https://us-python.pkg.dev/colab-wheels/public/simple/\n",
            "Collecting pipreqs\n",
            "  Downloading pipreqs-0.4.11-py2.py3-none-any.whl (32 kB)\n",
            "Collecting docopt\n",
            "  Downloading docopt-0.6.2.tar.gz (25 kB)\n",
            "  Preparing metadata (setup.py) ... \u001b[?25l\u001b[?25hdone\n",
            "Collecting yarg\n",
            "  Downloading yarg-0.1.9-py2.py3-none-any.whl (19 kB)\n",
            "Requirement already satisfied: requests in /usr/local/lib/python3.8/dist-packages (from yarg->pipreqs) (2.25.1)\n",
            "Requirement already satisfied: chardet<5,>=3.0.2 in /usr/local/lib/python3.8/dist-packages (from requests->yarg->pipreqs) (4.0.0)\n",
            "Requirement already satisfied: idna<3,>=2.5 in /usr/local/lib/python3.8/dist-packages (from requests->yarg->pipreqs) (2.10)\n",
            "Requirement already satisfied: urllib3<1.27,>=1.21.1 in /usr/local/lib/python3.8/dist-packages (from requests->yarg->pipreqs) (1.24.3)\n",
            "Requirement already satisfied: certifi>=2017.4.17 in /usr/local/lib/python3.8/dist-packages (from requests->yarg->pipreqs) (2022.12.7)\n",
            "Building wheels for collected packages: docopt\n",
            "  Building wheel for docopt (setup.py) ... \u001b[?25l\u001b[?25hdone\n",
            "  Created wheel for docopt: filename=docopt-0.6.2-py2.py3-none-any.whl size=13723 sha256=f2beeb3929d55efb8d0b36fe3de0fd4279079b2be21684de888a1fc8db67531b\n",
            "  Stored in directory: /root/.cache/pip/wheels/56/ea/58/ead137b087d9e326852a851351d1debf4ada529b6ac0ec4e8c\n",
            "Successfully built docopt\n",
            "Installing collected packages: docopt, yarg, pipreqs\n",
            "Successfully installed docopt-0.6.2 pipreqs-0.4.11 yarg-0.1.9\n",
            "INFO: Successfully saved requirements file in /content/drive/MyDrive/yolo/requirements.txt\n"
          ]
        }
      ]
    },
    {
      "cell_type": "code",
      "source": [
        "import cv2\n",
        "import argparse\n",
        "import numpy as np\n",
        "from google.colab.patches import cv2_imshow #for colab\n",
        "\n",
        "class prediction:\n",
        "  def __init__(self, read_image, classes_args, weights,config):\n",
        "    self.log_writer = yolo_logger()\n",
        "    self.filename = open(\"/content/drive/MyDrive/yolo/PredictionLogs.txt\",\"a+\")\n",
        "    self.log_writer.log(self.filename, \"Starting Prediction\")\n",
        "    self.read_image = read_image\n",
        "    self.classes_args = classes_args\n",
        "    self.weights = weights\n",
        "    self.config = config\n",
        "    #we can either use above self or we can use args\n",
        "  '''\n",
        "  ap = argparse.ArgumentParser()\n",
        "  ap.add_argument('-i', '--image', required=True,\n",
        "                  help = 'path to input image')\n",
        "  ap.add_argument('-c', '--config', required=True,\n",
        "                  help = 'path to yolo config file')\n",
        "  ap.add_argument('-w', '--weights', required=True,\n",
        "                  help = 'path to yolo pre-trained weights')\n",
        "  ap.add_argument('-cl', '--classes', required=True,\n",
        "                  help = 'path to text file containing class names')\n",
        "  args = ap.parse_args()\n",
        "  '''\n",
        "  #and in inputs we use \"self\" which is the variable-attachement that crosses over from one fun to another in same class\n",
        "  # to call a fun we either call it like - function() or function(inputs) - if it takes inputs\n",
        "  #all the variables that are common accross functions should be mentioned in \"__init__\" with self attahced so that we can call it in different functions    \n",
        "  def preparing_inputs(self):\n",
        "    try:\n",
        "      '''\n",
        "      self.read_image = read_image #Test image\n",
        "      self.classes = classes \n",
        "      self.weights = weights #weights from pretrained model\n",
        "      self.config = config\n",
        "      '''\n",
        "      \n",
        "      self.log_writer.log(self.filename, \"loading image\")\n",
        "      # read input image\n",
        "      self.image = cv2.imread(self.read_image)\n",
        "      #Maybe this is needed to divide the image in equal blocks\n",
        "      self.Width = self.image.shape[1] \n",
        "      self.Height = self.image.shape[0]\n",
        "      scale = 0.00392 #(1/255 to scale the pixel values to [0..1])\n",
        "\n",
        "      # read class names from text file\n",
        "      self.log_writer.log(self.filename, \"reading classes\")\n",
        "      self.classes = None \n",
        "      with open(self.classes_args, 'r') as f: #opens this file name class\n",
        "          self.classes = [line.strip() for line in f.readlines()]\n",
        "\n",
        "      # generate different colors for different classes\n",
        "      self.log_writer.log(self.filename, \"generating classes\") \n",
        "      self.COLORS = np.random.uniform(0, 255, size=(len(self.classes), 3)) # 3 colors generated randomly between 0 to 255\n",
        "\n",
        "      # read pre-trained model and config file\n",
        "      self.log_writer.log(self.filename, \"read pre-trained model and config file\")\n",
        "      self.net = cv2.dnn.readNet(self.weights, self.config)\n",
        "      #dnn = deep learning neural network used only for predictions\n",
        "\n",
        "      # create input blob \n",
        "      self.log_writer.log(self.filename, \"create input blob\")\n",
        "      blob = cv2.dnn.blobFromImage(self.image, scale, (416,416), (0,0,0), True, crop=False)\n",
        "      self.log_writer.log(self.filename, \"created  blob\")\n",
        "      \n",
        "      #416x416 square image, \n",
        "      # the mean value (default=0), \n",
        "      # the option swapBR=True (since OpenCV uses BGR to be converted to RGB)\n",
        "\n",
        "      # set input blob for the network\n",
        "      self.log_writer.log(self.filename, \"set input blob for the network\")\n",
        "      self.net.setInput(blob)\n",
        "     \n",
        "    \n",
        "      # function to get the output layer names \n",
        "      # in the architecture\n",
        "    except Exception as e:\n",
        "      self.log_writer.log(self.filename,\"Error Occured {}\".format(e))\n",
        "      #self.log_writer.log(self.filename,e)\n",
        "\n",
        "    \n",
        "\n",
        "\n",
        "\n",
        "  def get_output_layers (self):\n",
        "    \n",
        "    try:\n",
        "\n",
        "      self.log_writer.log(self.filename, \"get the output layer names \")\n",
        "      layer_names = self.net.getLayerNames()\n",
        "      '''\n",
        "      try:\n",
        "      \n",
        "        output_layers = [layer_names[i - 1] for i in self.net.getUnconnectedOutLayers()]\n",
        "      except:\n",
        "        output_layers = [layer_names[i[0] - 1] for i in self.net.getUnconnectedOutLayers()]\n",
        "      '''\n",
        "      self.output_layers = [layer_names[i - 1] for i in self.net.getUnconnectedOutLayers()]\n",
        "    except Exception as e:\n",
        "      self.log_writer.log(self.filename,\"Error Occured {}\".format(e))\n",
        "      #self.log_writer.log(self.filename,e)\n",
        "\n",
        "    return self.output_layers\n",
        "\n",
        "  def draw_prediction(self,img, class_id, confidence, x, y, x_plus_w, y_plus_h, color, classes):\n",
        "    self.image = img\n",
        "    self.class_id = class_id\n",
        "    self.confidence = confidence\n",
        "    self.x = x\n",
        "    self.y = y\n",
        "    self.x_plus_w = x_plus_w\n",
        "    self.y_plus_h = y_plus_h\n",
        "    self.COLORS = color\n",
        "    self.classes = classes\n",
        "    #what ever variables that we are taking from other funs have to be mentioned in inputs \n",
        "    try:  \n",
        "      self.log_writer.log(self.filename, \"draw bounding box on the detected object with class name \")\n",
        "      pred = prediction(self.read_image,self.classes_args,self.weights,self.config)\n",
        "      label = str(self.classes[self.class_id]) #Label on the bounding box is the class id\n",
        "\n",
        "      color = self.COLORS[self.class_id]\n",
        "\n",
        "      cv2.rectangle(self.image, (self.x,self.y), (self.x_plus_w,self.y_plus_h), color, 2)\n",
        "\n",
        "      cv2.putText(self.image, label, (self.x-10,self.y-10), cv2.FONT_HERSHEY_SIMPLEX, 0.5, color, 2)\n",
        "    except Exception as e:\n",
        "      self.log_writer.log(self.filename,\"Error Occured {}\".format(e))\n",
        "      #self.log_writer.log(self.filename,e)\n",
        "  \n",
        "  def inference(self):\n",
        "    try:\n",
        "    # run inference through the network\n",
        "    # and gather predictions from output layers\n",
        "      self.log_writer.log(self.filename, \"running inference through the network and and gathering predictions from output layers \")\n",
        "      outs = self.net.forward(self.output_layers)\n",
        "      \n",
        "      #outs = exactly where feed forward through the network happens ie 1D layer\n",
        "\n",
        "      # initialization\n",
        "      self.class_ids = []\n",
        "      self.confidences = []\n",
        "      self.boxes = []\n",
        "      self.conf_threshold = 0.5\n",
        "      self.nms_threshold = 0.4\n",
        "\n",
        "      # for each detetion from each output layer \n",
        "      # get the confidence, class id, bounding box params\n",
        "      # and ignore weak detections (confidence < 0.5)\n",
        "      for out in outs:\n",
        "          for detection in out:\n",
        "              scores = detection[5:]\n",
        "              self.class_id = np.argmax(scores)\n",
        "              \n",
        "              self.confidence = scores[self.class_id]\n",
        "              if self.confidence > 0.5:\n",
        "                  center_x = int(detection[0] * self.Width)\n",
        "                  center_y = int(detection[1] * self.Height)\n",
        "                  self.w = int(detection[2] * self.Width)\n",
        "                  self.h = int(detection[3] * self.Height)\n",
        "                  self.x = int(center_x - self.w / 2)\n",
        "                  self.y = int(center_y - self.h / 2)\n",
        "                  self.class_ids.append(self.class_id)\n",
        "                  self.confidences.append(float(self.confidence))\n",
        "                  self.boxes.append([self.x, self.y, self.w, self.h])\n",
        "    except Exception as e:\n",
        "      self.log_writer.log(self.filename,\"Error Occured {}\".format(e))\n",
        "      #self.log_writer.log(self.filename,e)\n",
        "\n",
        "\n",
        "\n",
        "  \n",
        "    \n",
        "\n",
        "\n",
        "  def non_max_supperession(self):\n",
        "\n",
        "    try:\n",
        "      self.log_writer.log(self.filename, \"apply non-max suppression\")\n",
        "          # apply non-max suppression\n",
        "      indices = cv2.dnn.NMSBoxes(self.boxes, self.confidences, self.conf_threshold, self.nms_threshold)\n",
        "\n",
        "      # go through the detections remaining\n",
        "      # after nms and draw bounding box\n",
        "      for i in indices:\n",
        "                \n",
        "        try:\n",
        "          box = self.boxes[i]\n",
        "        except:\n",
        "          i = i[0]\n",
        "        box =self.boxes[i]\n",
        "        self.x = box[0]\n",
        "        self.y = box[1]\n",
        "        self.w = box[2]\n",
        "        self.h = box[3]\n",
        "        predi = prediction(self.read_image,self.classes_args,self.weights,self.config)\n",
        "        predi.draw_prediction(self.image, self.class_ids[i], self.confidences[i], round(self.x), round(self.y), round(self.x+self.w), round(self.y+self.h), self.COLORS, self.classes)\n",
        "        #unlike calling a variable from a function (which is done by self), if we want to call a function we do it by \"class.function\" and all the variables that would be used in it have to be mentioned explicitely as inputs since it wont take those values directly from other function, but if we specify those values in inputs even if used with self (like above) for 'self.COLORS, self.classes' \n",
        "        #we mention \"class.function\" to call that function \n",
        "        \n",
        "      ''' \n",
        "      # display output image    \n",
        "      #cv2.imshow(\"object detection\", preparing_inputs.image)\n",
        "      #for colab\n",
        "      cv2_imshow(self.image)\n",
        "      # wait until any key is pressed\n",
        "      cv2.waitKey()\n",
        "          \n",
        "      # save output image to disk\n",
        "      cv2.imwrite(\"object-detection.jpg\", self.image)\n",
        "      self.log_writer.log(self.filename, \"saved output image to disk\")\n",
        "      # release resources\n",
        "      cv2.destroyAllWindows()\n",
        "      '''\n",
        "    except Exception as e:\n",
        "        self.log_writer.log(self.filename,\"Error Occured {}\".format(e))\n",
        "        #self.log_writer.log(self.filename,e)\n",
        "    \n",
        "    return cv2.imwrite(\"object-detection.jpg\", self.image)\n",
        "  # display output image    \n",
        "  #cv2.imshow(\"object detection\", preparing_inputs.image)\n",
        "  #for colab\n",
        "  #cv2_imshow(self.image)\n",
        "  # wait until any key is pressed\n",
        "  #cv2.waitKey()\n",
        "      \n",
        "  # save output image to disk\n",
        "  #cv2.imwrite(\"object-detection.jpg\", self.image)\n",
        "  #self.log_writer.log(self.filename, \"saved output image to disk\")\n",
        "  # release resources\n",
        "  #cv2.destroyAllWindows()\n",
        "      "
      ],
      "metadata": {
        "id": "gLjLBKMx7-y4"
      },
      "execution_count": 69,
      "outputs": []
    },
    {
      "cell_type": "code",
      "source": [],
      "metadata": {
        "id": "_AT6vwX7zyL4"
      },
      "execution_count": 10,
      "outputs": []
    },
    {
      "cell_type": "code",
      "source": [
        "cfg=\"/content/drive/MyDrive/yolo/yolo_files/yolov3.cfg\"\n",
        "weights = \"/content/drive/MyDrive/yolo/yolo_files/yolo3.weights\"\n",
        "classes = \"/content/drive/MyDrive/yolo/yolo_files/yolov3.txt\"\n",
        "dog = \"/content/drive/MyDrive/yolo/yolo_files/dog.jpg\"\n",
        "predict = prediction(dog,classes, weights,cfg)\n",
        "preparing_inputs = predict.preparing_inputs()\n",
        "\n",
        "get_output_layers= predict.get_output_layers()\n",
        "inference = predict.inference()\n",
        "non_max_supperession = predict.non_max_supperession()"
      ],
      "metadata": {
        "id": "GdWZiEuKzd_l"
      },
      "execution_count": 68,
      "outputs": []
    },
    {
      "cell_type": "code",
      "source": [],
      "metadata": {
        "colab": {
          "base_uri": "https://localhost:8080/"
        },
        "id": "B_AZIrpLGBT9",
        "outputId": "95f36661-3793-40e1-cf4c-060014b28c81"
      },
      "execution_count": 122,
      "outputs": [
        {
          "output_type": "execute_result",
          "data": {
            "text/plain": [
              "[0, 1, 2]"
            ]
          },
          "metadata": {},
          "execution_count": 122
        }
      ]
    },
    {
      "cell_type": "code",
      "source": [],
      "metadata": {
        "id": "KmT8N_FWGH4s"
      },
      "execution_count": null,
      "outputs": []
    }
  ]
}